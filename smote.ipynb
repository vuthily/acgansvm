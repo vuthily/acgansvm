{
 "cells": [
  {
   "cell_type": "code",
   "execution_count": null,
   "metadata": {},
   "outputs": [],
   "source": [
    "from collections import Counter\n",
    "from sklearn.datasets import make_classification\n",
    "from imblearn.over_sampling import SMOTE \n",
    "import nslkdd41\n",
    "import numpy as np\n",
    "import nslkdd\n",
    "import classifier\n",
    "#import unsw\n",
    "#import ctu13\n",
    "\n",
    "dt = nslkdd41.read_data_sets()\n",
    "\n",
    "X_train = dt.train.features\n",
    "Y_train = dt.train.labels\n",
    "\n",
    "X_test = dt.test.features\n",
    "Y_test = dt.test.labels\n",
    "\n",
    "Y_tr = np.argmax(Y_train, axis=1)\n",
    "Y_te = np.argmax(Y_test, axis=1)\n",
    "\n"
   ]
  },
  {
   "cell_type": "code",
   "execution_count": null,
   "metadata": {},
   "outputs": [],
   "source": [
    "import time\n",
    "start = time.time()\n",
    "sm = SMOTE(random_state=42, kind = 'svm')\n",
    "X_res, Y_res = sm.fit_sample(X_train, Y_tr)\n",
    "\n",
    "import time\n",
    "stop = time.time()\n",
    "print (\"time\")\n",
    "print (stop-start)\n",
    "\n",
    "print('original dataset shape {}'.format(Counter(Y_tr)))\n",
    "print('Resampled dataset shape {}'.format(Counter(Y_res)))\n",
    "Y_res = np.reshape(Y_res, (len(Y_res), 1))\n",
    "Y_test = np.reshape(Y_te, (len(Y_te), 1))\n",
    "print (Y_res.shape)\n",
    "print (\"-------------------------SMOTE----------------------\")\n",
    "print (\"SVM\")\n",
    "sv_gan, svm_fpr_gan, svm_tpr_gan, svm_roc_gan = classifier.svm(X_res, Y_res , X_test,Y_te)\n",
    "print (\"Decision tree\")\n",
    "dt_gan, dt_fpr_gan, dt_tpr_gan, dt_roc_gan = classifier.decisiontree(X_res, Y_res , X_test,Y_te)\n",
    "print (\"Random forest\")\n",
    "rf_gan, rf_fpr_gan, rf_tpr_gan, rf_roc_gan = classifier.randomforest(X_res, Y_res , X_test,Y_te)"
   ]
  }
 ],
 "metadata": {
  "kernelspec": {
   "display_name": "Python 2",
   "language": "python",
   "name": "python2"
  },
  "language_info": {
   "codemirror_mode": {
    "name": "ipython",
    "version": 2
   },
   "file_extension": ".py",
   "mimetype": "text/x-python",
   "name": "python",
   "nbconvert_exporter": "python",
   "pygments_lexer": "ipython2",
   "version": "2.7.12"
  }
 },
 "nbformat": 4,
 "nbformat_minor": 2
}
